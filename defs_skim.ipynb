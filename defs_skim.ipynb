{
 "cells": [
  {
   "cell_type": "code",
   "execution_count": 1,
   "metadata": {
    "collapsed": true
   },
   "outputs": [],
   "source": [
    "import re\n",
    "import os\n",
    "import csv"
   ]
  },
  {
   "cell_type": "code",
   "execution_count": null,
   "metadata": {
    "collapsed": true
   },
   "outputs": [],
   "source": [
    "def writecsv(l, filename):\n",
    "\n",
    "    with open(filename, 'w', newline='', encoding='utf-8') as csvfile:\n",
    "        writer = csv.writer(csvfile)\n",
    "        writer.writerows(l)\n"
   ]
  },
  {
   "cell_type": "code",
   "execution_count": 49,
   "metadata": {
    "collapsed": true
   },
   "outputs": [],
   "source": [
    "def skim(i):\n",
    "    (filename,dire) = i\n",
    "    completename = os.path.join(dire,filename)\n",
    "    try:\n",
    "        file = open(completename,\"r\")\n",
    "        contents = file.read()\n",
    "        \n",
    "        begindoc = contents.find(\"</SEC-HEADER>\")\n",
    "        front = contents[0:begindoc+1]\n",
    "        \n",
    "        items = re.finditer(\"\\nITEM INFORMATION:\\t\\t\", front)\n",
    "        itemsend = front.find(\"\\nFILED AS OF DATE:\")\n",
    "        \n",
    "        \n",
    "        \n",
    "        start = []\n",
    "        end = []\n",
    "        for match in items:\n",
    "            start.append(match.start())\n",
    "            end.append(match.end())\n",
    "    \n",
    "        start.append(itemsend)\n",
    "    \n",
    "        Itemlist = []\n",
    "        #Itemposition = []\n",
    "        for item in range(len(end)):\n",
    "            position = [end[item],start[item+1]]\n",
    "            #Itemposition.append(position)\n",
    "            Itemlist.append(front[position[0]:position[1]])     \n",
    "    \n",
    "        \n",
    "        \n",
    "        documents_start = [d.start() for d in re.finditer(\"<DOCUMENT>\\n\",contents)]\n",
    "        documents_end = [d.end() for d in re.finditer(\"</DOCUMENT>\\n\",contents)]\n",
    "        documents_starttype = [d.end() for d in re.finditer(\"<TYPE>\",contents)]\n",
    "        documents_endtype = [d.start() for d in re.finditer(\"\\n<SEQUENCE>\",contents)]\n",
    "    \n",
    "        documents_type = []\n",
    "        for doc in range(len(documents_starttype)):\n",
    "            documents_type.append(contents[documents_starttype[doc]:documents_endtype[doc]])\n",
    "        \n",
    "        documents_position = []\n",
    "        for doc in range(len(documents_start)):\n",
    "            documents_position.append([documents_start[doc],documents_end[doc]])\n",
    "            \n",
    "        return [Itemlist,documents_type,documents_position]\n",
    "\n",
    "    except:\n",
    "        pass"
   ]
  }
 ],
 "metadata": {
  "kernelspec": {
   "display_name": "Python [default]",
   "language": "python",
   "name": "python3"
  },
  "language_info": {
   "codemirror_mode": {
    "name": "ipython",
    "version": 3
   },
   "file_extension": ".py",
   "mimetype": "text/x-python",
   "name": "python",
   "nbconvert_exporter": "python",
   "pygments_lexer": "ipython3",
   "version": "3.5.3"
  }
 },
 "nbformat": 4,
 "nbformat_minor": 2
}
