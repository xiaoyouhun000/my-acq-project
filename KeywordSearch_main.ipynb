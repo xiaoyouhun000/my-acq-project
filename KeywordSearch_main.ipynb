{
 "cells": [
  {
   "cell_type": "code",
   "execution_count": 1,
   "metadata": {
    "collapsed": true
   },
   "outputs": [],
   "source": [
    "import re\n",
    "import csv\n",
    "import os\n",
    "import time\n",
    "import datetime\n",
    "import itertools\n",
    "import multiprocessing\n",
    "import defs_keyword"
   ]
  },
  {
   "cell_type": "code",
   "execution_count": 2,
   "metadata": {
    "collapsed": true
   },
   "outputs": [],
   "source": [
    "yearrange = range(2016,2017)\n",
    "quarterrange = range(1,5)\n",
    "\n",
    "keyword = \"acquisition\""
   ]
  },
  {
   "cell_type": "code",
   "execution_count": 3,
   "metadata": {},
   "outputs": [
    {
     "name": "stdout",
     "output_type": "stream",
     "text": [
      "2017-09-19 10:32:04.616314\n",
      "2017-09-19 10:39:18.353378\n",
      "2017-09-19 10:45:19.728942\n",
      "2017-09-19 10:51:26.356457\n"
     ]
    }
   ],
   "source": [
    "for year in yearrange:\n",
    "    for quarter in quarterrange:\n",
    "        \n",
    "        csvfilename = \"%s_%s_%s.csv\" %(year,quarter,keyword)\n",
    "        if not os.path.exists(csvfilename):\n",
    "            dire = \"%s_%sforms\" %(year,quarter)\n",
    "            with open(\"%s_%s.csv\" %(year, quarter), \"r\") as URLfile:\n",
    "                datareader = csv.reader(URLfile)\n",
    "                paths = []\n",
    "                for row in datareader:\n",
    "                    filename = row[4].replace('/','_')\n",
    "                    paths.append(filename)\n",
    "                    \n",
    "            forminputs = list(itertools.product(paths,[dire],[keyword]))\n",
    "        \n",
    "            pool = multiprocessing.Pool(multiprocessing.cpu_count()-1)\n",
    "            sublist = pool.map(defs_keyword.searchkeyword,forminputs)\n",
    "            pool.close()\n",
    "            \n",
    "            sublist = list(filter(None, sublist))\n",
    "        \n",
    "            csvlist = []\n",
    "            for item in sublist:\n",
    "                csvlist.append([item])\n",
    "        \n",
    "            defs_keyword.writecsv(csvlist,csvfilename)\n",
    "        print(datetime.datetime.now())\n",
    "        "
   ]
  },
  {
   "cell_type": "code",
   "execution_count": null,
   "metadata": {
    "collapsed": true
   },
   "outputs": [],
   "source": []
  }
 ],
 "metadata": {
  "anaconda-cloud": {},
  "kernelspec": {
   "display_name": "Python [default]",
   "language": "python",
   "name": "python3"
  },
  "language_info": {
   "codemirror_mode": {
    "name": "ipython",
    "version": 3
   },
   "file_extension": ".py",
   "mimetype": "text/x-python",
   "name": "python",
   "nbconvert_exporter": "python",
   "pygments_lexer": "ipython3",
   "version": "3.5.3"
  }
 },
 "nbformat": 4,
 "nbformat_minor": 2
}
