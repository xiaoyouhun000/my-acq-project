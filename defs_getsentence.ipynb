{
 "cells": [
  {
   "cell_type": "code",
   "execution_count": 2,
   "metadata": {
    "collapsed": true
   },
   "outputs": [],
   "source": [
    "import os\n",
    "from bs4 import BeautifulSoup\n",
    "import re"
   ]
  },
  {
   "cell_type": "code",
   "execution_count": 3,
   "metadata": {
    "collapsed": true
   },
   "outputs": [],
   "source": [
    "def getsentence(i):\n",
    "    (filename,dire) = i\n",
    "    f = os.path.join(dire,filename)\n",
    "    with open(f) as textfile:\n",
    "        text = textfile.read()\n",
    "        \n",
    "    begindoc = text.find(\"</SEC-HEADER>\")\n",
    "    front = text[0:begindoc+1]\n",
    "    text = text[begindoc:-1]\n",
    "    \n",
    "    parserset = [\"html.parser\", \"html5lib\", \"lxml\"]\n",
    "    soup = \" \"\n",
    "    for parser in parserset:\n",
    "        try:\n",
    "            soup = BeautifulSoup(text,parser)\n",
    "            break\n",
    "        except:\n",
    "            pass\n",
    "        \n",
    "    souptext = soup.get_text(\" \",strip = True)\n",
    "\n",
    "    souptext = souptext.replace(\"Mr.\",\"Mr\").replace(\"Mrs.\",\"Mrs\").replace(\"Dr.\",\"Dr\")\n",
    "    \n",
    "    locs = [l.start() for l in re.finditer(keyword,souptext)]\n",
    "    \n",
    "    sentlist = []\n",
    "    for l in locs:\n",
    "        before = souptext[0:l+1]\n",
    "        beforeloc = before.rfind(\". \")\n",
    "        after = souptext[l:-1]\n",
    "        afterloc = after.find(\". \")\n",
    "        sent = souptext[beforeloc+1:l+afterloc+1]\n",
    "        if sent not in sentlist:\n",
    "            sentlist.append(sent)\n",
    "            \n",
    "    return sentlist"
   ]
  },
  {
   "cell_type": "code",
   "execution_count": null,
   "metadata": {
    "collapsed": true
   },
   "outputs": [],
   "source": []
  }
 ],
 "metadata": {
  "anaconda-cloud": {},
  "kernelspec": {
   "display_name": "Python [default]",
   "language": "python",
   "name": "python3"
  },
  "language_info": {
   "codemirror_mode": {
    "name": "ipython",
    "version": 3
   },
   "file_extension": ".py",
   "mimetype": "text/x-python",
   "name": "python",
   "nbconvert_exporter": "python",
   "pygments_lexer": "ipython3",
   "version": "3.5.3"
  }
 },
 "nbformat": 4,
 "nbformat_minor": 2
}
