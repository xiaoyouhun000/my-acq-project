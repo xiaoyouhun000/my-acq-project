{
 "cells": [
  {
   "cell_type": "code",
   "execution_count": 1,
   "metadata": {
    "collapsed": true
   },
   "outputs": [],
   "source": [
    "import re\n",
    "import csv\n",
    "import os\n",
    "import time\n",
    "import datetime\n",
    "import itertools\n",
    "import multiprocessing\n",
    "import defs_skim\n",
    "import dateutil.parser\n",
    "import pandas as pd\n",
    "import pickle"
   ]
  },
  {
   "cell_type": "code",
   "execution_count": 2,
   "metadata": {
    "collapsed": true
   },
   "outputs": [],
   "source": [
    "yearrange = range(2016,2017)\n",
    "quarterrange = range(1,5)"
   ]
  },
  {
   "cell_type": "code",
   "execution_count": 9,
   "metadata": {},
   "outputs": [
    {
     "name": "stdout",
     "output_type": "stream",
     "text": [
      "2017-10-21 16:07:11.086455\n",
      "2017-10-21 16:14:30.636853\n",
      "2017-10-21 16:20:32.770583\n",
      "2017-10-21 16:26:38.853195\n"
     ]
    }
   ],
   "source": [
    "if __name__ == '__main__':\n",
    "    for year in yearrange:\n",
    "        for quarter in quarterrange:\n",
    "        \n",
    "            csvfilename = \"%s_%s_skimmed\" %(year,quarter)\n",
    "            if not os.path.exists(csvfilename):\n",
    "                dire = \"%s_%sforms\" %(year,quarter)\n",
    "                with open(\"%s_%s.csv\" %(year, quarter), \"r\") as URLfile:\n",
    "                    datareader = csv.reader(URLfile)\n",
    "                    Name = []\n",
    "                    Form = []\n",
    "                    CIK = []\n",
    "                    Date = []\n",
    "                    paths = []\n",
    "                    for row in datareader:\n",
    "                        firmname = row[0]\n",
    "                        formtype = row[1]\n",
    "                        cik = row[2].zfill(10)\n",
    "                        date = dateutil.parser.parse(row[3])\n",
    "                        filename = row[4].replace('/','_')\n",
    "                        Name.append(firmname)\n",
    "                        Form.append(formtype)\n",
    "                        CIK.append(cik)\n",
    "                        Date.append(date)\n",
    "                        paths.append(filename)\n",
    "                    \n",
    "                forminputs = list(itertools.product(paths,[dire]))\n",
    "        \n",
    "            \n",
    "                pool = multiprocessing.Pool(multiprocessing.cpu_count()-1)\n",
    "                result = pool.map(defs_skim.skim,forminputs)\n",
    "                pool.close()\n",
    "                print(datetime.datetime.now())\n",
    "                \n",
    "                Item = []\n",
    "                Document = []\n",
    "                Document_position = []\n",
    "                \n",
    "                for row in result:\n",
    "                    Item.append(row[0])\n",
    "                    Document.append(row[1])\n",
    "                    Document_position.append(row[2])\n",
    "                \n",
    "#                 Itemset = []\n",
    "#                 Documentset = []\n",
    "                \n",
    "#                 for l in range(len(result)):\n",
    "#                     Itemset.append(Item[l][0])\n",
    "#                     Documentset.append(Document[l][0])\n",
    "#                 Itemset = set(Itemset)\n",
    "#                 Documentset = set(Documentset)\n",
    "                \n",
    "                data = {'firmname': Name, 'formtype': Form,'cik':CIK,'date':Date,'path':paths,'item':Item,'document':Document,\\\n",
    "                       'document_position':Document_position}\n",
    "                df = pd.DataFrame(data=data,index = None )\n",
    "                \n",
    "                with open(csvfilename,'wb') as dumplocation:\n",
    "                    pickle.dump(df,dumplocation)\n",
    "            \n",
    "            #sublist = list(filter(None, sublist))\n",
    "        \n",
    "            #csvlist = []\n",
    "            #for item in sublist:\n",
    "                #csvlist.append([item])\n",
    "        \n",
    "            #defs_skim.writecsv(csvlist,csvfilename)\n",
    "            \n",
    "        "
   ]
  }
 ],
 "metadata": {
  "kernelspec": {
   "display_name": "Python [default]",
   "language": "python",
   "name": "python3"
  },
  "language_info": {
   "codemirror_mode": {
    "name": "ipython",
    "version": 3
   },
   "file_extension": ".py",
   "mimetype": "text/x-python",
   "name": "python",
   "nbconvert_exporter": "python",
   "pygments_lexer": "ipython3",
   "version": "3.5.3"
  }
 },
 "nbformat": 4,
 "nbformat_minor": 2
}
