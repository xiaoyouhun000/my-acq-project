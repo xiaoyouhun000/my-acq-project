{
 "cells": [
  {
   "cell_type": "code",
   "execution_count": 1,
   "metadata": {
    "collapsed": true
   },
   "outputs": [],
   "source": [
    "import csv\n",
    "import itertools\n",
    "import multiprocessing\n",
    "import os\n",
    "import pickle\n",
    "import datetime\n",
    "import time\n",
    "from bs4 import BeautifulSoup\n",
    "\n",
    "import defs_getsentence"
   ]
  },
  {
   "cell_type": "code",
   "execution_count": 2,
   "metadata": {},
   "outputs": [],
   "source": [
    "keyword = \"acquisition\"\n",
    "\n",
    "foldername = \"%s_sentences\" %keyword\n",
    "if not os.path.exists(foldername):\n",
    "    os.makedirs(foldername)\n",
    "\n",
    "yearrange = range(2016,2017)\n",
    "quarterrange = range(1,2)"
   ]
  },
  {
   "cell_type": "code",
   "execution_count": 3,
   "metadata": {},
   "outputs": [
    {
     "name": "stdout",
     "output_type": "stream",
     "text": [
      "2017-09-21 17:33:03.155218\n"
     ]
    }
   ],
   "source": [
    "if __name__ == '__main__':\n",
    "    for year in yearrange:\n",
    "        for quarter in quarterrange:\n",
    "        \n",
    "            dataname = os.path.join(foldername,\"%s_%s\" %(year,quarter))\n",
    "            if not os.path.exists(dataname):\n",
    "     \n",
    "                dire = \"%s_%sforms\" %(year,quarter)\n",
    "                with open(\"%s_%s_%s.csv\" %(year,quarter,keyword)) as csvlist:\n",
    "                    datareader = csv.reader(csvlist)\n",
    "                    filelist = [row[0] for row in datareader]\n",
    "            \n",
    "                forminputs = list(itertools.product(filelist,[dire],[keyword]))\n",
    "        \n",
    "                pool = multiprocessing.Pool(multiprocessing.cpu_count()-1) #\n",
    "                sublist = pool.map(defs_getsentence.getsentence,forminputs)\n",
    "                pool.close()\n",
    "                \n",
    "                data = []\n",
    "                for ele in sublist:\n",
    "                    for sent in ele:\n",
    "                        sentnew = BeautifulSoup(sent,'html.parser').get_text().replace('\\xa0',' ')\n",
    "                        data = data+[sentnew]\n",
    "            \n",
    "                with open(dataname,'wb') as fp:\n",
    "                    pickle.dump(data, fp)\n",
    "                \n",
    "                print(datetime.datetime.now())\n",
    "                time.sleep(15)"
   ]
  },
  {
   "cell_type": "code",
   "execution_count": null,
   "metadata": {
    "collapsed": true
   },
   "outputs": [],
   "source": []
  }
 ],
 "metadata": {
  "anaconda-cloud": {},
  "kernelspec": {
   "display_name": "Python [default]",
   "language": "python",
   "name": "python3"
  },
  "language_info": {
   "codemirror_mode": {
    "name": "ipython",
    "version": 3
   },
   "file_extension": ".py",
   "mimetype": "text/x-python",
   "name": "python",
   "nbconvert_exporter": "python",
   "pygments_lexer": "ipython3",
   "version": "3.5.3"
  }
 },
 "nbformat": 4,
 "nbformat_minor": 2
}
