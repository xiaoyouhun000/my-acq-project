{
 "cells": [
  {
   "cell_type": "code",
   "execution_count": 1,
   "metadata": {},
   "outputs": [],
   "source": [
    "from bs4 import BeautifulSoup\n",
    "import urllib\n",
    "from urllib import request\n",
    "import re\n",
    "import csv\n",
    "import os\n",
    "import time\n",
    "import datetime\n",
    "import codecs\n",
    "from joblib import Parallel, delayed\n",
    "import multiprocessing\n",
    "import itertools"
   ]
  },
  {
   "cell_type": "code",
   "execution_count": 2,
   "metadata": {
    "collapsed": true
   },
   "outputs": [],
   "source": [
    "import http.client\n",
    "http.client.HTTPConnection._http_vsn = 10\n",
    "http.client.HTTPConnection._http_vsn_str = 'HTTP/1.0'"
   ]
  },
  {
   "cell_type": "code",
   "execution_count": 5,
   "metadata": {},
   "outputs": [],
   "source": [
    "import defs_download"
   ]
  },
  {
   "cell_type": "code",
   "execution_count": 10,
   "metadata": {},
   "outputs": [
    {
     "name": "stdout",
     "output_type": "stream",
     "text": [
      "filelength:18794, formlength:18794\n",
      "2017-09-17 20:03:08.177414\n",
      "filelength:20900, formlength:20900\n",
      "2017-09-17 20:03:08.997582\n",
      "filelength:17568, formlength:17568\n",
      "2017-09-17 20:03:09.680942\n",
      "filelength:17457, formlength:17457\n",
      "2017-09-17 20:03:10.190545\n"
     ]
    }
   ],
   "source": [
    "if __name__ == '__main__':\n",
    "    yearrange = range(2016,2017)\n",
    "    quarterrange = range(1,5)\n",
    "    indexinputs = list(itertools.product(yearrange,quarterrange))\n",
    "\n",
    "\n",
    "    pool = multiprocessing.Pool(processes=multiprocessing.cpu_count()-1)\n",
    "    \n",
    "    pool.map(defs_download.multiindex, indexinputs)\n",
    "    \n",
    "    for year in yearrange:\n",
    "        for quarter in quarterrange:\n",
    "            with open(\"%s_%s.csv\" %(year,quarter),\"r\") as URLfile:\n",
    "                datareader = csv.reader(URLfile)\n",
    "        \n",
    "                name = []\n",
    "                cik = []\n",
    "                date = []\n",
    "                URLs = []\n",
    "                forms = []\n",
    "                for row in datareader:\n",
    "                    URLs.append(row[4])\n",
    "                    forms.append(row[1])\n",
    "                    name.append(row[0])\n",
    "                    cik.append(row[2])\n",
    "                    date.append(row[3])\n",
    "            \n",
    "            datamax = 0\n",
    "    \n",
    "            dire = \"%s_%sforms\" %(year,quarter)\n",
    "            if not os.path.exists(dire):\n",
    "                os.mkdir(dire)\n",
    "                \n",
    "            forminputs = list(itertools.product(URLs,[dire]))\n",
    "            \n",
    "            pool = multiprocessing.Pool(processes=multiprocessing.cpu_count()-1) #\n",
    "            pool.map(defs_download.multidownload,forminputs)\n",
    "            \n",
    "            print('filelength:%s, formlength:%s' %(len(URLs),len(os.listdir(dire))))\n",
    "            print(datetime.datetime.now())"
   ]
  },
  {
   "cell_type": "code",
   "execution_count": null,
   "metadata": {
    "collapsed": true
   },
   "outputs": [],
   "source": []
  }
 ],
 "metadata": {
  "anaconda-cloud": {},
  "kernelspec": {
   "display_name": "Python [default]",
   "language": "python",
   "name": "python3"
  },
  "language_info": {
   "codemirror_mode": {
    "name": "ipython",
    "version": 3
   },
   "file_extension": ".py",
   "mimetype": "text/x-python",
   "name": "python",
   "nbconvert_exporter": "python",
   "pygments_lexer": "ipython3",
   "version": "3.5.3"
  }
 },
 "nbformat": 4,
 "nbformat_minor": 2
}
